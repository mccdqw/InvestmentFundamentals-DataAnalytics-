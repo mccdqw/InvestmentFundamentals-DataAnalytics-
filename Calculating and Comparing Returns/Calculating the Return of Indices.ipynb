{
 "cells": [
  {
   "cell_type": "code",
   "execution_count": 4,
   "metadata": {},
   "outputs": [],
   "source": [
    "import numpy as np\n",
    "import pandas as pd\n",
    "import matplotlib.pyplot as plt\n",
    "import yfinance as yf"
   ]
  },
  {
   "cell_type": "code",
   "execution_count": 9,
   "metadata": {},
   "outputs": [
    {
     "name": "stdout",
     "output_type": "stream",
     "text": [
      "[*********************100%***********************]  1 of 1 completed\n",
      "[*********************100%***********************]  1 of 1 completed\n",
      "[*********************100%***********************]  1 of 1 completed\n",
      "[*********************100%***********************]  1 of 1 completed\n"
     ]
    }
   ],
   "source": [
    "tickers = ['^GSPC', '^IXIC', '^GDAXI', '^FTSE']\n",
    "\n",
    "ind_data = pd.DataFrame()\n",
    "\n",
    "for i in tickers:\n",
    "    ind_data[i] = yf.download(i, start='1997-1-1')['Adj Close']"
   ]
  },
  {
   "cell_type": "code",
   "execution_count": 10,
   "metadata": {},
   "outputs": [
    {
     "data": {
      "text/html": [
       "<div>\n",
       "<style scoped>\n",
       "    .dataframe tbody tr th:only-of-type {\n",
       "        vertical-align: middle;\n",
       "    }\n",
       "\n",
       "    .dataframe tbody tr th {\n",
       "        vertical-align: top;\n",
       "    }\n",
       "\n",
       "    .dataframe thead th {\n",
       "        text-align: right;\n",
       "    }\n",
       "</style>\n",
       "<table border=\"1\" class=\"dataframe\">\n",
       "  <thead>\n",
       "    <tr style=\"text-align: right;\">\n",
       "      <th></th>\n",
       "      <th>^GSPC</th>\n",
       "      <th>^IXIC</th>\n",
       "      <th>^GDAXI</th>\n",
       "      <th>^FTSE</th>\n",
       "    </tr>\n",
       "    <tr>\n",
       "      <th>Date</th>\n",
       "      <th></th>\n",
       "      <th></th>\n",
       "      <th></th>\n",
       "      <th></th>\n",
       "    </tr>\n",
       "  </thead>\n",
       "  <tbody>\n",
       "    <tr>\n",
       "      <th>1997-01-02</th>\n",
       "      <td>737.010010</td>\n",
       "      <td>1280.699951</td>\n",
       "      <td>2820.810059</td>\n",
       "      <td>4057.399902</td>\n",
       "    </tr>\n",
       "    <tr>\n",
       "      <th>1997-01-03</th>\n",
       "      <td>748.030029</td>\n",
       "      <td>1310.680054</td>\n",
       "      <td>2863.260010</td>\n",
       "      <td>4089.500000</td>\n",
       "    </tr>\n",
       "    <tr>\n",
       "      <th>1997-01-06</th>\n",
       "      <td>747.650024</td>\n",
       "      <td>1316.400024</td>\n",
       "      <td>2890.199951</td>\n",
       "      <td>4106.500000</td>\n",
       "    </tr>\n",
       "    <tr>\n",
       "      <th>1997-01-07</th>\n",
       "      <td>753.229980</td>\n",
       "      <td>1327.729980</td>\n",
       "      <td>2876.340088</td>\n",
       "      <td>4078.800049</td>\n",
       "    </tr>\n",
       "    <tr>\n",
       "      <th>1997-01-08</th>\n",
       "      <td>748.409973</td>\n",
       "      <td>1320.349976</td>\n",
       "      <td>2904.080078</td>\n",
       "      <td>4087.500000</td>\n",
       "    </tr>\n",
       "  </tbody>\n",
       "</table>\n",
       "</div>"
      ],
      "text/plain": [
       "                 ^GSPC        ^IXIC       ^GDAXI        ^FTSE\n",
       "Date                                                         \n",
       "1997-01-02  737.010010  1280.699951  2820.810059  4057.399902\n",
       "1997-01-03  748.030029  1310.680054  2863.260010  4089.500000\n",
       "1997-01-06  747.650024  1316.400024  2890.199951  4106.500000\n",
       "1997-01-07  753.229980  1327.729980  2876.340088  4078.800049\n",
       "1997-01-08  748.409973  1320.349976  2904.080078  4087.500000"
      ]
     },
     "execution_count": 10,
     "metadata": {},
     "output_type": "execute_result"
    }
   ],
   "source": [
    "ind_data.head()"
   ]
  },
  {
   "cell_type": "code",
   "execution_count": 11,
   "metadata": {},
   "outputs": [
    {
     "data": {
      "text/html": [
       "<div>\n",
       "<style scoped>\n",
       "    .dataframe tbody tr th:only-of-type {\n",
       "        vertical-align: middle;\n",
       "    }\n",
       "\n",
       "    .dataframe tbody tr th {\n",
       "        vertical-align: top;\n",
       "    }\n",
       "\n",
       "    .dataframe thead th {\n",
       "        text-align: right;\n",
       "    }\n",
       "</style>\n",
       "<table border=\"1\" class=\"dataframe\">\n",
       "  <thead>\n",
       "    <tr style=\"text-align: right;\">\n",
       "      <th></th>\n",
       "      <th>^GSPC</th>\n",
       "      <th>^IXIC</th>\n",
       "      <th>^GDAXI</th>\n",
       "      <th>^FTSE</th>\n",
       "    </tr>\n",
       "    <tr>\n",
       "      <th>Date</th>\n",
       "      <th></th>\n",
       "      <th></th>\n",
       "      <th></th>\n",
       "      <th></th>\n",
       "    </tr>\n",
       "  </thead>\n",
       "  <tbody>\n",
       "    <tr>\n",
       "      <th>2023-02-10</th>\n",
       "      <td>4090.459961</td>\n",
       "      <td>11718.120117</td>\n",
       "      <td>15307.980469</td>\n",
       "      <td>7882.500000</td>\n",
       "    </tr>\n",
       "    <tr>\n",
       "      <th>2023-02-13</th>\n",
       "      <td>4137.290039</td>\n",
       "      <td>11891.790039</td>\n",
       "      <td>15397.339844</td>\n",
       "      <td>7947.600098</td>\n",
       "    </tr>\n",
       "    <tr>\n",
       "      <th>2023-02-14</th>\n",
       "      <td>4136.129883</td>\n",
       "      <td>11960.150391</td>\n",
       "      <td>15380.559570</td>\n",
       "      <td>7953.899902</td>\n",
       "    </tr>\n",
       "    <tr>\n",
       "      <th>2023-02-15</th>\n",
       "      <td>4147.600098</td>\n",
       "      <td>12070.589844</td>\n",
       "      <td>15506.339844</td>\n",
       "      <td>7997.799805</td>\n",
       "    </tr>\n",
       "    <tr>\n",
       "      <th>2023-02-16</th>\n",
       "      <td>4090.409912</td>\n",
       "      <td>11855.830078</td>\n",
       "      <td>15533.639648</td>\n",
       "      <td>8012.500000</td>\n",
       "    </tr>\n",
       "  </tbody>\n",
       "</table>\n",
       "</div>"
      ],
      "text/plain": [
       "                  ^GSPC         ^IXIC        ^GDAXI        ^FTSE\n",
       "Date                                                            \n",
       "2023-02-10  4090.459961  11718.120117  15307.980469  7882.500000\n",
       "2023-02-13  4137.290039  11891.790039  15397.339844  7947.600098\n",
       "2023-02-14  4136.129883  11960.150391  15380.559570  7953.899902\n",
       "2023-02-15  4147.600098  12070.589844  15506.339844  7997.799805\n",
       "2023-02-16  4090.409912  11855.830078  15533.639648  8012.500000"
      ]
     },
     "execution_count": 11,
     "metadata": {},
     "output_type": "execute_result"
    }
   ],
   "source": [
    "ind_data.tail()"
   ]
  },
  {
   "cell_type": "code",
   "execution_count": 12,
   "metadata": {},
   "outputs": [
    {
     "data": {
      "text/plain": [
       "<matplotlib.axes._subplots.AxesSubplot at 0x258f67d48c8>"
      ]
     },
     "execution_count": 12,
     "metadata": {},
     "output_type": "execute_result"
    },
    {
     "data": {
      "image/png": "[encoded data removed]",
      "text/plain": [
       "<Figure size 1080x432 with 1 Axes>"
      ]
     },
     "metadata": {
      "needs_background": "light"
     },
     "output_type": "display_data"
    }
   ],
   "source": [
    "(ind_data / ind_data.iloc[0] * 100).plot(figsize=(15 , 6))"
   ]
  },
  {
   "cell_type": "code",
   "execution_count": 13,
   "metadata": {},
   "outputs": [
    {
     "data": {
      "text/html": [
       "<div>\n",
       "<style scoped>\n",
       "    .dataframe tbody tr th:only-of-type {\n",
       "        vertical-align: middle;\n",
       "    }\n",
       "\n",
       "    .dataframe tbody tr th {\n",
       "        vertical-align: top;\n",
       "    }\n",
       "\n",
       "    .dataframe thead th {\n",
       "        text-align: right;\n",
       "    }\n",
       "</style>\n",
       "<table border=\"1\" class=\"dataframe\">\n",
       "  <thead>\n",
       "    <tr style=\"text-align: right;\">\n",
       "      <th></th>\n",
       "      <th>^GSPC</th>\n",
       "      <th>^IXIC</th>\n",
       "      <th>^GDAXI</th>\n",
       "      <th>^FTSE</th>\n",
       "    </tr>\n",
       "    <tr>\n",
       "      <th>Date</th>\n",
       "      <th></th>\n",
       "      <th></th>\n",
       "      <th></th>\n",
       "      <th></th>\n",
       "    </tr>\n",
       "  </thead>\n",
       "  <tbody>\n",
       "    <tr>\n",
       "      <th>2023-02-10</th>\n",
       "      <td>0.002195</td>\n",
       "      <td>-0.006061</td>\n",
       "      <td>-0.013878</td>\n",
       "      <td>-0.003628</td>\n",
       "    </tr>\n",
       "    <tr>\n",
       "      <th>2023-02-13</th>\n",
       "      <td>0.011449</td>\n",
       "      <td>0.014821</td>\n",
       "      <td>0.005837</td>\n",
       "      <td>0.008259</td>\n",
       "    </tr>\n",
       "    <tr>\n",
       "      <th>2023-02-14</th>\n",
       "      <td>-0.000280</td>\n",
       "      <td>0.005749</td>\n",
       "      <td>-0.001090</td>\n",
       "      <td>0.000793</td>\n",
       "    </tr>\n",
       "    <tr>\n",
       "      <th>2023-02-15</th>\n",
       "      <td>0.002773</td>\n",
       "      <td>0.009234</td>\n",
       "      <td>0.008178</td>\n",
       "      <td>0.005519</td>\n",
       "    </tr>\n",
       "    <tr>\n",
       "      <th>2023-02-16</th>\n",
       "      <td>-0.013789</td>\n",
       "      <td>-0.017792</td>\n",
       "      <td>0.001761</td>\n",
       "      <td>0.001838</td>\n",
       "    </tr>\n",
       "  </tbody>\n",
       "</table>\n",
       "</div>"
      ],
      "text/plain": [
       "               ^GSPC     ^IXIC    ^GDAXI     ^FTSE\n",
       "Date                                              \n",
       "2023-02-10  0.002195 -0.006061 -0.013878 -0.003628\n",
       "2023-02-13  0.011449  0.014821  0.005837  0.008259\n",
       "2023-02-14 -0.000280  0.005749 -0.001090  0.000793\n",
       "2023-02-15  0.002773  0.009234  0.008178  0.005519\n",
       "2023-02-16 -0.013789 -0.017792  0.001761  0.001838"
      ]
     },
     "execution_count": 13,
     "metadata": {},
     "output_type": "execute_result"
    }
   ],
   "source": [
    "ind_returns = (ind_data / ind_data.shift(1)) - 1\n",
    "ind_returns.tail()"
   ]
  },
  {
   "cell_type": "code",
   "execution_count": 14,
   "metadata": {},
   "outputs": [
    {
     "data": {
      "text/plain": [
       "^GSPC     0.084511\n",
       "^IXIC     0.116492\n",
       "^GDAXI    0.077793\n",
       "^FTSE     0.040432\n",
       "dtype: float64"
      ]
     },
     "execution_count": 14,
     "metadata": {},
     "output_type": "execute_result"
    }
   ],
   "source": [
    "annual_ind_returns = ind_returns.mean() * 250\n",
    "annual_ind_returns"
   ]
  },
  {
   "cell_type": "code",
   "execution_count": 15,
   "metadata": {},
   "outputs": [
    {
     "name": "stdout",
     "output_type": "stream",
     "text": [
      "[*********************100%***********************]  1 of 1 completed\n",
      "[*********************100%***********************]  1 of 1 completed\n",
      "[*********************100%***********************]  1 of 1 completed\n"
     ]
    }
   ],
   "source": [
    "tickers = ['PG', '^GSPC', '^DJI']\n",
    "data2 = pd.DataFrame()\n",
    "\n",
    "for i in tickers:\n",
    "    data2[i] = yf.download(i, start='1997-1-1')['Adj Close']"
   ]
  },
  {
   "cell_type": "code",
   "execution_count": 17,
   "metadata": {},
   "outputs": [
    {
     "data": {
      "text/html": [
       "<div>\n",
       "<style scoped>\n",
       "    .dataframe tbody tr th:only-of-type {\n",
       "        vertical-align: middle;\n",
       "    }\n",
       "\n",
       "    .dataframe tbody tr th {\n",
       "        vertical-align: top;\n",
       "    }\n",
       "\n",
       "    .dataframe thead th {\n",
       "        text-align: right;\n",
       "    }\n",
       "</style>\n",
       "<table border=\"1\" class=\"dataframe\">\n",
       "  <thead>\n",
       "    <tr style=\"text-align: right;\">\n",
       "      <th></th>\n",
       "      <th>PG</th>\n",
       "      <th>^GSPC</th>\n",
       "      <th>^DJI</th>\n",
       "    </tr>\n",
       "    <tr>\n",
       "      <th>Date</th>\n",
       "      <th></th>\n",
       "      <th></th>\n",
       "      <th></th>\n",
       "    </tr>\n",
       "  </thead>\n",
       "  <tbody>\n",
       "    <tr>\n",
       "      <th>2023-02-10</th>\n",
       "      <td>138.259995</td>\n",
       "      <td>4090.459961</td>\n",
       "      <td>33869.269531</td>\n",
       "    </tr>\n",
       "    <tr>\n",
       "      <th>2023-02-13</th>\n",
       "      <td>140.070007</td>\n",
       "      <td>4137.290039</td>\n",
       "      <td>34245.929688</td>\n",
       "    </tr>\n",
       "    <tr>\n",
       "      <th>2023-02-14</th>\n",
       "      <td>139.279999</td>\n",
       "      <td>4136.129883</td>\n",
       "      <td>34089.269531</td>\n",
       "    </tr>\n",
       "    <tr>\n",
       "      <th>2023-02-15</th>\n",
       "      <td>138.960007</td>\n",
       "      <td>4147.600098</td>\n",
       "      <td>34128.050781</td>\n",
       "    </tr>\n",
       "    <tr>\n",
       "      <th>2023-02-16</th>\n",
       "      <td>137.139999</td>\n",
       "      <td>4090.409912</td>\n",
       "      <td>33696.851562</td>\n",
       "    </tr>\n",
       "  </tbody>\n",
       "</table>\n",
       "</div>"
      ],
      "text/plain": [
       "                    PG        ^GSPC          ^DJI\n",
       "Date                                             \n",
       "2023-02-10  138.259995  4090.459961  33869.269531\n",
       "2023-02-13  140.070007  4137.290039  34245.929688\n",
       "2023-02-14  139.279999  4136.129883  34089.269531\n",
       "2023-02-15  138.960007  4147.600098  34128.050781\n",
       "2023-02-16  137.139999  4090.409912  33696.851562"
      ]
     },
     "execution_count": 17,
     "metadata": {},
     "output_type": "execute_result"
    }
   ],
   "source": [
    "data2.tail()"
   ]
  },
  {
   "cell_type": "code",
   "execution_count": null,
   "metadata": {},
   "outputs": [],
   "source": [
    "(data2 / data2.iloc[0] * 100).pl"
   ]
  }
 ],
 "metadata": {
  "kernelspec": {
   "display_name": "Python 3",
   "language": "python",
   "name": "python3"
  },
  "language_info": {
   "codemirror_mode": {
    "name": "ipython",
    "version": 3
   },
   "file_extension": ".py",
   "mimetype": "text/x-python",
   "name": "python",
   "nbconvert_exporter": "python",
   "pygments_lexer": "ipython3",
   "version": "3.7.4"
  }
 },
 "nbformat": 4,
 "nbformat_minor": 2
}
